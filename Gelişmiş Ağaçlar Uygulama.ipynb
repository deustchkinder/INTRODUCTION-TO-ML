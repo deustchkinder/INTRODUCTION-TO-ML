{
 "cells": [
  {
   "cell_type": "markdown",
   "id": "1a7e4db2",
   "metadata": {},
   "source": [
    "# Random Forests, GBM, XGBoost, LightGBM, CatBoost Uygulama"
   ]
  },
  {
   "cell_type": "code",
   "execution_count": 1,
   "id": "e17a9194",
   "metadata": {},
   "outputs": [],
   "source": [
    "import warnings\n",
    "import numpy as np\n",
    "import pandas as pd\n",
    "import seaborn as sns\n",
    "from matplotlib import pyplot as plt\n",
    "from sklearn.ensemble import RandomForestClassifier, GradientBoostingClassifier, VotingClassifier\n",
    "from sklearn.model_selection import GridSearchCV, cross_validate, RandomizedSearchCV, validation_curve\n",
    "\n",
    "from xgboost import XGBClassifier\n",
    "from lightgbm import LGBMClassifier\n",
    "from catboost import CatBoostClassifier"
   ]
  },
  {
   "cell_type": "code",
   "execution_count": 2,
   "id": "2fe131db",
   "metadata": {},
   "outputs": [],
   "source": [
    "pd.set_option('display.max_columns', None)\n",
    "pd.set_option('display.width', 500)\n",
    "\n",
    "warnings.simplefilter(action='ignore', category=Warning)"
   ]
  },
  {
   "cell_type": "code",
   "execution_count": 3,
   "id": "cf947483",
   "metadata": {},
   "outputs": [],
   "source": [
    "df = pd.read_csv(R\"C:\\Users\\Oguz\\Desktop\\DCMLBC06\\yaz_kampı\\diabetes.csv\")"
   ]
  },
  {
   "cell_type": "code",
   "execution_count": 4,
   "id": "2e22145f",
   "metadata": {},
   "outputs": [],
   "source": [
    "y = df[\"Outcome\"]\n",
    "X = df.drop([\"Outcome\"], axis=1)"
   ]
  },
  {
   "cell_type": "markdown",
   "id": "b3c26dc4",
   "metadata": {},
   "source": [
    "## Random Forests"
   ]
  },
  {
   "cell_type": "code",
   "execution_count": 5,
   "id": "03fa39c9",
   "metadata": {},
   "outputs": [],
   "source": [
    "rf_model = RandomForestClassifier(random_state=17)"
   ]
  },
  {
   "cell_type": "code",
   "execution_count": 6,
   "id": "887d0cb6",
   "metadata": {},
   "outputs": [
    {
     "data": {
      "text/plain": [
       "{'bootstrap': True,\n",
       " 'ccp_alpha': 0.0,\n",
       " 'class_weight': None,\n",
       " 'criterion': 'gini',\n",
       " 'max_depth': None,\n",
       " 'max_features': 'auto',\n",
       " 'max_leaf_nodes': None,\n",
       " 'max_samples': None,\n",
       " 'min_impurity_decrease': 0.0,\n",
       " 'min_impurity_split': None,\n",
       " 'min_samples_leaf': 1,\n",
       " 'min_samples_split': 2,\n",
       " 'min_weight_fraction_leaf': 0.0,\n",
       " 'n_estimators': 100,\n",
       " 'n_jobs': None,\n",
       " 'oob_score': False,\n",
       " 'random_state': 17,\n",
       " 'verbose': 0,\n",
       " 'warm_start': False}"
      ]
     },
     "execution_count": 6,
     "metadata": {},
     "output_type": "execute_result"
    }
   ],
   "source": [
    "rf_model.get_params()"
   ]
  },
  {
   "cell_type": "code",
   "execution_count": 7,
   "id": "2ca957f6",
   "metadata": {},
   "outputs": [],
   "source": [
    "cv_results = cross_validate(rf_model, X, y, cv=10, scoring=[\"accuracy\", \"f1\", \"roc_auc\"])"
   ]
  },
  {
   "cell_type": "code",
   "execution_count": 8,
   "id": "8dbcf67f",
   "metadata": {},
   "outputs": [
    {
     "data": {
      "text/plain": [
       "0.753896103896104"
      ]
     },
     "execution_count": 8,
     "metadata": {},
     "output_type": "execute_result"
    }
   ],
   "source": [
    "cv_results['test_accuracy'].mean()"
   ]
  },
  {
   "cell_type": "code",
   "execution_count": 9,
   "id": "d9d36b4c",
   "metadata": {},
   "outputs": [
    {
     "data": {
      "text/plain": [
       "0.6190701534636385"
      ]
     },
     "execution_count": 9,
     "metadata": {},
     "output_type": "execute_result"
    }
   ],
   "source": [
    "cv_results['test_f1'].mean()"
   ]
  },
  {
   "cell_type": "code",
   "execution_count": 10,
   "id": "dcde12e4",
   "metadata": {},
   "outputs": [
    {
     "data": {
      "text/plain": [
       "0.8233960113960114"
      ]
     },
     "execution_count": 10,
     "metadata": {},
     "output_type": "execute_result"
    }
   ],
   "source": [
    "cv_results['test_roc_auc'].mean()"
   ]
  },
  {
   "cell_type": "code",
   "execution_count": 11,
   "id": "e2f1fded",
   "metadata": {},
   "outputs": [],
   "source": [
    "rf_params = {\"max_depth\": [5, 8, None],\n",
    "             \"max_features\": [3, 5, 7, \"auto\"],\n",
    "             \"min_samples_split\": [2, 5, 8, 15, 20],\n",
    "             \"n_estimators\": [100, 200, 500]}"
   ]
  },
  {
   "cell_type": "code",
   "execution_count": 12,
   "id": "4bb36aa9",
   "metadata": {},
   "outputs": [
    {
     "name": "stdout",
     "output_type": "stream",
     "text": [
      "Fitting 5 folds for each of 180 candidates, totalling 900 fits\n"
     ]
    },
    {
     "name": "stderr",
     "output_type": "stream",
     "text": [
      "[Parallel(n_jobs=-1)]: Using backend LokyBackend with 4 concurrent workers.\n",
      "[Parallel(n_jobs=-1)]: Done  42 tasks      | elapsed:   10.1s\n",
      "[Parallel(n_jobs=-1)]: Done 192 tasks      | elapsed:   58.2s\n",
      "[Parallel(n_jobs=-1)]: Done 442 tasks      | elapsed:  2.5min\n",
      "[Parallel(n_jobs=-1)]: Done 792 tasks      | elapsed:  4.6min\n",
      "[Parallel(n_jobs=-1)]: Done 900 out of 900 | elapsed:  5.2min finished\n"
     ]
    }
   ],
   "source": [
    "rf_best_grid = GridSearchCV(rf_model, rf_params, cv=5, n_jobs=-1, verbose=True).fit(X, y)"
   ]
  },
  {
   "cell_type": "code",
   "execution_count": 13,
   "id": "42e51337",
   "metadata": {},
   "outputs": [
    {
     "data": {
      "text/plain": [
       "{'max_depth': None,\n",
       " 'max_features': 5,\n",
       " 'min_samples_split': 8,\n",
       " 'n_estimators': 500}"
      ]
     },
     "execution_count": 13,
     "metadata": {},
     "output_type": "execute_result"
    }
   ],
   "source": [
    "rf_best_grid.best_params_"
   ]
  },
  {
   "cell_type": "code",
   "execution_count": 14,
   "id": "98671dae",
   "metadata": {},
   "outputs": [],
   "source": [
    "rf_final = rf_model.set_params(**rf_best_grid.best_params_, random_state=17).fit(X, y)"
   ]
  },
  {
   "cell_type": "code",
   "execution_count": 15,
   "id": "4199eac1",
   "metadata": {},
   "outputs": [],
   "source": [
    "cv_results = cross_validate(rf_final, X, y, cv=10, scoring=[\"accuracy\", \"f1\", \"roc_auc\"])"
   ]
  },
  {
   "cell_type": "code",
   "execution_count": 16,
   "id": "310eae86",
   "metadata": {},
   "outputs": [
    {
     "data": {
      "text/plain": [
       "0.766848940533151"
      ]
     },
     "execution_count": 16,
     "metadata": {},
     "output_type": "execute_result"
    }
   ],
   "source": [
    "cv_results['test_accuracy'].mean()"
   ]
  },
  {
   "cell_type": "code",
   "execution_count": 17,
   "id": "6ca588d8",
   "metadata": {},
   "outputs": [
    {
     "data": {
      "text/plain": [
       "0.6447777811143756"
      ]
     },
     "execution_count": 17,
     "metadata": {},
     "output_type": "execute_result"
    }
   ],
   "source": [
    "cv_results['test_f1'].mean()"
   ]
  },
  {
   "cell_type": "code",
   "execution_count": 18,
   "id": "757c7d5d",
   "metadata": {},
   "outputs": [
    {
     "data": {
      "text/plain": [
       "0.8271054131054132"
      ]
     },
     "execution_count": 18,
     "metadata": {},
     "output_type": "execute_result"
    }
   ],
   "source": [
    "cv_results['test_roc_auc'].mean()"
   ]
  },
  {
   "cell_type": "code",
   "execution_count": 19,
   "id": "f324cd20",
   "metadata": {},
   "outputs": [],
   "source": [
    "def plot_importance(model, features, num=len(X), save=False):\n",
    "    feature_imp = pd.DataFrame({'Value': model.feature_importances_, 'Feature': features.columns})\n",
    "    plt.figure(figsize=(10, 10))\n",
    "    sns.set(font_scale=1)\n",
    "    sns.barplot(x=\"Value\", y=\"Feature\", data=feature_imp.sort_values(by=\"Value\",\n",
    "                                                                     ascending=False)[0:num])\n",
    "    plt.title('Features')\n",
    "    plt.tight_layout()\n",
    "    plt.show()\n",
    "    if save:\n",
    "        plt.savefig('importances.png')"
   ]
  },
  {
   "cell_type": "code",
   "execution_count": 20,
   "id": "83938866",
   "metadata": {},
   "outputs": [
    {
     "data": {
      "image/png": "[encoded data removed]",
      "text/plain": [
       "<Figure size 720x720 with 1 Axes>"
      ]
     },
     "metadata": {
      "needs_background": "light"
     },
     "output_type": "display_data"
    }
   ],
   "source": [
    "plot_importance(rf_final, X)"
   ]
  },
  {
   "cell_type": "code",
   "execution_count": 21,
   "id": "7d82a009",
   "metadata": {},
   "outputs": [],
   "source": [
    "def val_curve_params(model, X, y, param_name, param_range, scoring=\"roc_auc\", cv=10):\n",
    "    train_score, test_score = validation_curve(\n",
    "        model, X=X, y=y, param_name=param_name, param_range=param_range, scoring=scoring, cv=cv)\n",
    "\n",
    "    mean_train_score = np.mean(train_score, axis=1)\n",
    "    mean_test_score = np.mean(test_score, axis=1)\n",
    "\n",
    "    plt.plot(param_range, mean_train_score,\n",
    "             label=\"Training Score\", color='b')\n",
    "\n",
    "    plt.plot(param_range, mean_test_score,\n",
    "             label=\"Validation Score\", color='g')\n",
    "\n",
    "    plt.title(f\"Validation Curve for {type(model).__name__}\")\n",
    "    plt.xlabel(f\"Number of {param_name}\")\n",
    "    plt.ylabel(f\"{scoring}\")\n",
    "    plt.tight_layout()\n",
    "    plt.legend(loc='best')\n",
    "    plt.show(block=True)"
   ]
  },
  {
   "cell_type": "code",
   "execution_count": 22,
   "id": "36f3cd99",
   "metadata": {},
   "outputs": [
    {
     "data": {
      "image/png": "[encoded data removed]",
      "text/plain": [
       "<Figure size 432x288 with 1 Axes>"
      ]
     },
     "metadata": {},
     "output_type": "display_data"
    }
   ],
   "source": [
    "val_curve_params(rf_final, X, y, \"max_depth\", range(1, 11), scoring=\"roc_auc\")"
   ]
  },
  {
   "cell_type": "markdown",
   "id": "7ae5ca74",
   "metadata": {},
   "source": [
    "## GBM"
   ]
  },
  {
   "cell_type": "code",
   "execution_count": 23,
   "id": "5788466e",
   "metadata": {},
   "outputs": [],
   "source": [
    "gbm_model = GradientBoostingClassifier(random_state=17)"
   ]
  },
  {
   "cell_type": "code",
   "execution_count": 24,
   "id": "69837d5f",
   "metadata": {},
   "outputs": [
    {
     "data": {
      "text/plain": [
       "{'ccp_alpha': 0.0,\n",
       " 'criterion': 'friedman_mse',\n",
       " 'init': None,\n",
       " 'learning_rate': 0.1,\n",
       " 'loss': 'deviance',\n",
       " 'max_depth': 3,\n",
       " 'max_features': None,\n",
       " 'max_leaf_nodes': None,\n",
       " 'min_impurity_decrease': 0.0,\n",
       " 'min_impurity_split': None,\n",
       " 'min_samples_leaf': 1,\n",
       " 'min_samples_split': 2,\n",
       " 'min_weight_fraction_leaf': 0.0,\n",
       " 'n_estimators': 100,\n",
       " 'n_iter_no_change': None,\n",
       " 'presort': 'deprecated',\n",
       " 'random_state': 17,\n",
       " 'subsample': 1.0,\n",
       " 'tol': 0.0001,\n",
       " 'validation_fraction': 0.1,\n",
       " 'verbose': 0,\n",
       " 'warm_start': False}"
      ]
     },
     "execution_count": 24,
     "metadata": {},
     "output_type": "execute_result"
    }
   ],
   "source": [
    "gbm_model.get_params()"
   ]
  },
  {
   "cell_type": "code",
   "execution_count": 25,
   "id": "2fe230fe",
   "metadata": {},
   "outputs": [],
   "source": [
    "cv_results = cross_validate(gbm_model, X, y, cv=5, scoring=[\"accuracy\", \"f1\", \"roc_auc\"])"
   ]
  },
  {
   "cell_type": "code",
   "execution_count": 26,
   "id": "d8bba99a",
   "metadata": {},
   "outputs": [
    {
     "data": {
      "text/plain": [
       "0.7591715474068416"
      ]
     },
     "execution_count": 26,
     "metadata": {},
     "output_type": "execute_result"
    }
   ],
   "source": [
    "cv_results['test_accuracy'].mean()"
   ]
  },
  {
   "cell_type": "code",
   "execution_count": 27,
   "id": "9bb1a157",
   "metadata": {},
   "outputs": [
    {
     "data": {
      "text/plain": [
       "0.634235802826363"
      ]
     },
     "execution_count": 27,
     "metadata": {},
     "output_type": "execute_result"
    }
   ],
   "source": [
    "cv_results['test_f1'].mean()"
   ]
  },
  {
   "cell_type": "code",
   "execution_count": 28,
   "id": "838b9ee5",
   "metadata": {},
   "outputs": [
    {
     "data": {
      "text/plain": [
       "0.8253015373864429"
      ]
     },
     "execution_count": 28,
     "metadata": {},
     "output_type": "execute_result"
    }
   ],
   "source": [
    "cv_results['test_roc_auc'].mean()"
   ]
  },
  {
   "cell_type": "code",
   "execution_count": 29,
   "id": "8e0666bb",
   "metadata": {},
   "outputs": [],
   "source": [
    "gbm_params = {\"learning_rate\": [0.01, 0.1],\n",
    "              \"max_depth\": [3, 8, 10],\n",
    "              \"n_estimators\": [100, 500, 1000],\n",
    "              \"subsample\": [1, 0.5, 0.7]}"
   ]
  },
  {
   "cell_type": "code",
   "execution_count": 30,
   "id": "043db955",
   "metadata": {},
   "outputs": [
    {
     "name": "stdout",
     "output_type": "stream",
     "text": [
      "Fitting 5 folds for each of 54 candidates, totalling 270 fits\n"
     ]
    },
    {
     "name": "stderr",
     "output_type": "stream",
     "text": [
      "[Parallel(n_jobs=-1)]: Using backend LokyBackend with 4 concurrent workers.\n",
      "[Parallel(n_jobs=-1)]: Done  42 tasks      | elapsed:   12.9s\n",
      "[Parallel(n_jobs=-1)]: Done 192 tasks      | elapsed:  3.0min\n",
      "[Parallel(n_jobs=-1)]: Done 270 out of 270 | elapsed:  5.1min finished\n"
     ]
    }
   ],
   "source": [
    "gbm_best_grid = GridSearchCV(gbm_model, gbm_params, cv=5, n_jobs=-1, verbose=True).fit(X, y)"
   ]
  },
  {
   "cell_type": "code",
   "execution_count": 31,
   "id": "34b8f81e",
   "metadata": {},
   "outputs": [
    {
     "data": {
      "text/plain": [
       "{'learning_rate': 0.01, 'max_depth': 3, 'n_estimators': 1000, 'subsample': 0.7}"
      ]
     },
     "execution_count": 31,
     "metadata": {},
     "output_type": "execute_result"
    }
   ],
   "source": [
    "gbm_best_grid.best_params_"
   ]
  },
  {
   "cell_type": "code",
   "execution_count": 32,
   "id": "4ffe45cb",
   "metadata": {},
   "outputs": [],
   "source": [
    "gbm_final = gbm_model.set_params(**gbm_best_grid.best_params_, random_state=17, ).fit(X, y)"
   ]
  },
  {
   "cell_type": "code",
   "execution_count": 33,
   "id": "a625f808",
   "metadata": {},
   "outputs": [],
   "source": [
    "cv_results = cross_validate(gbm_final, X, y, cv=5, scoring=[\"accuracy\", \"f1\", \"roc_auc\"])"
   ]
  },
  {
   "cell_type": "code",
   "execution_count": 34,
   "id": "95f4b454",
   "metadata": {},
   "outputs": [
    {
     "data": {
      "text/plain": [
       "0.7734827264239028"
      ]
     },
     "execution_count": 34,
     "metadata": {},
     "output_type": "execute_result"
    }
   ],
   "source": [
    "cv_results['test_accuracy'].mean()"
   ]
  },
  {
   "cell_type": "code",
   "execution_count": 35,
   "id": "cb0eef72",
   "metadata": {},
   "outputs": [
    {
     "data": {
      "text/plain": [
       "0.6608618893832223"
      ]
     },
     "execution_count": 35,
     "metadata": {},
     "output_type": "execute_result"
    }
   ],
   "source": [
    "cv_results['test_f1'].mean()"
   ]
  },
  {
   "cell_type": "code",
   "execution_count": 36,
   "id": "c11b829a",
   "metadata": {},
   "outputs": [
    {
     "data": {
      "text/plain": [
       "0.8347533193570928"
      ]
     },
     "execution_count": 36,
     "metadata": {},
     "output_type": "execute_result"
    }
   ],
   "source": [
    "cv_results['test_roc_auc'].mean()"
   ]
  },
  {
   "cell_type": "markdown",
   "id": "9239a9c5",
   "metadata": {},
   "source": [
    "## XGBoost"
   ]
  },
  {
   "cell_type": "code",
   "execution_count": 37,
   "id": "779d4ac7",
   "metadata": {},
   "outputs": [],
   "source": [
    "xgboost_model = XGBClassifier(random_state=17, use_label_encoder=False)"
   ]
  },
  {
   "cell_type": "code",
   "execution_count": 38,
   "id": "a25e8658",
   "metadata": {},
   "outputs": [
    {
     "data": {
      "text/plain": [
       "{'objective': 'binary:logistic',\n",
       " 'use_label_encoder': False,\n",
       " 'base_score': None,\n",
       " 'booster': None,\n",
       " 'colsample_bylevel': None,\n",
       " 'colsample_bynode': None,\n",
       " 'colsample_bytree': None,\n",
       " 'gamma': None,\n",
       " 'gpu_id': None,\n",
       " 'importance_type': 'gain',\n",
       " 'interaction_constraints': None,\n",
       " 'learning_rate': None,\n",
       " 'max_delta_step': None,\n",
       " 'max_depth': None,\n",
       " 'min_child_weight': None,\n",
       " 'missing': nan,\n",
       " 'monotone_constraints': None,\n",
       " 'n_estimators': 100,\n",
       " 'n_jobs': None,\n",
       " 'num_parallel_tree': None,\n",
       " 'random_state': 17,\n",
       " 'reg_alpha': None,\n",
       " 'reg_lambda': None,\n",
       " 'scale_pos_weight': None,\n",
       " 'subsample': None,\n",
       " 'tree_method': None,\n",
       " 'validate_parameters': None,\n",
       " 'verbosity': None}"
      ]
     },
     "execution_count": 38,
     "metadata": {},
     "output_type": "execute_result"
    }
   ],
   "source": [
    "xgboost_model.get_params()"
   ]
  },
  {
   "cell_type": "code",
   "execution_count": 39,
   "id": "05816095",
   "metadata": {},
   "outputs": [
    {
     "name": "stdout",
     "output_type": "stream",
     "text": [
      "[00:13:23] WARNING: C:/Users/Administrator/workspace/xgboost-win64_release_1.4.0/src/learner.cc:1095: Starting in XGBoost 1.3.0, the default evaluation metric used with the objective 'binary:logistic' was changed from 'error' to 'logloss'. Explicitly set eval_metric if you'd like to restore the old behavior.\n",
      "[00:13:23] WARNING: C:/Users/Administrator/workspace/xgboost-win64_release_1.4.0/src/learner.cc:1095: Starting in XGBoost 1.3.0, the default evaluation metric used with the objective 'binary:logistic' was changed from 'error' to 'logloss'. Explicitly set eval_metric if you'd like to restore the old behavior.\n",
      "[00:13:23] WARNING: C:/Users/Administrator/workspace/xgboost-win64_release_1.4.0/src/learner.cc:1095: Starting in XGBoost 1.3.0, the default evaluation metric used with the objective 'binary:logistic' was changed from 'error' to 'logloss'. Explicitly set eval_metric if you'd like to restore the old behavior.\n",
      "[00:13:23] WARNING: C:/Users/Administrator/workspace/xgboost-win64_release_1.4.0/src/learner.cc:1095: Starting in XGBoost 1.3.0, the default evaluation metric used with the objective 'binary:logistic' was changed from 'error' to 'logloss'. Explicitly set eval_metric if you'd like to restore the old behavior.\n",
      "[00:13:23] WARNING: C:/Users/Administrator/workspace/xgboost-win64_release_1.4.0/src/learner.cc:1095: Starting in XGBoost 1.3.0, the default evaluation metric used with the objective 'binary:logistic' was changed from 'error' to 'logloss'. Explicitly set eval_metric if you'd like to restore the old behavior.\n"
     ]
    }
   ],
   "source": [
    "cv_results = cross_validate(xgboost_model, X, y, cv=5, scoring=[\"accuracy\", \"f1\", \"roc_auc\"])"
   ]
  },
  {
   "cell_type": "code",
   "execution_count": 40,
   "id": "1b93c04c",
   "metadata": {},
   "outputs": [
    {
     "data": {
      "text/plain": [
       "0.7526525761819879"
      ]
     },
     "execution_count": 40,
     "metadata": {},
     "output_type": "execute_result"
    }
   ],
   "source": [
    "cv_results['test_accuracy'].mean()"
   ]
  },
  {
   "cell_type": "code",
   "execution_count": 41,
   "id": "38c7337a",
   "metadata": {},
   "outputs": [
    {
     "data": {
      "text/plain": [
       "0.6317893713482235"
      ]
     },
     "execution_count": 41,
     "metadata": {},
     "output_type": "execute_result"
    }
   ],
   "source": [
    "cv_results['test_f1'].mean()"
   ]
  },
  {
   "cell_type": "code",
   "execution_count": 42,
   "id": "4fc62081",
   "metadata": {},
   "outputs": [
    {
     "data": {
      "text/plain": [
       "0.7987134870719776"
      ]
     },
     "execution_count": 42,
     "metadata": {},
     "output_type": "execute_result"
    }
   ],
   "source": [
    "cv_results['test_roc_auc'].mean()"
   ]
  },
  {
   "cell_type": "code",
   "execution_count": 43,
   "id": "f3dc52b0",
   "metadata": {},
   "outputs": [],
   "source": [
    "xgboost_params = {\"learning_rate\": [0.1, 0.01],\n",
    "                  \"max_depth\": [5, 8],\n",
    "                  \"n_estimators\": [100, 500, 1000],\n",
    "                  \"colsample_bytree\": [0.7, 1]}"
   ]
  },
  {
   "cell_type": "code",
   "execution_count": 44,
   "id": "24890971",
   "metadata": {},
   "outputs": [
    {
     "name": "stdout",
     "output_type": "stream",
     "text": [
      "Fitting 5 folds for each of 24 candidates, totalling 120 fits\n"
     ]
    },
    {
     "name": "stderr",
     "output_type": "stream",
     "text": [
      "[Parallel(n_jobs=-1)]: Using backend LokyBackend with 4 concurrent workers.\n",
      "[Parallel(n_jobs=-1)]: Done  42 tasks      | elapsed:   14.5s\n"
     ]
    },
    {
     "name": "stdout",
     "output_type": "stream",
     "text": [
      "[00:14:53] WARNING: C:/Users/Administrator/workspace/xgboost-win64_release_1.4.0/src/learner.cc:1095: Starting in XGBoost 1.3.0, the default evaluation metric used with the objective 'binary:logistic' was changed from 'error' to 'logloss'. Explicitly set eval_metric if you'd like to restore the old behavior.\n"
     ]
    },
    {
     "name": "stderr",
     "output_type": "stream",
     "text": [
      "[Parallel(n_jobs=-1)]: Done 120 out of 120 | elapsed:   43.2s finished\n"
     ]
    }
   ],
   "source": [
    "xgboost_best_grid = GridSearchCV(xgboost_model, xgboost_params, cv=5, n_jobs=-1, verbose=True).fit(X, y)"
   ]
  },
  {
   "cell_type": "code",
   "execution_count": 45,
   "id": "d7eb7589",
   "metadata": {},
   "outputs": [
    {
     "name": "stdout",
     "output_type": "stream",
     "text": [
      "[00:15:48] WARNING: C:/Users/Administrator/workspace/xgboost-win64_release_1.4.0/src/learner.cc:1095: Starting in XGBoost 1.3.0, the default evaluation metric used with the objective 'binary:logistic' was changed from 'error' to 'logloss'. Explicitly set eval_metric if you'd like to restore the old behavior.\n"
     ]
    }
   ],
   "source": [
    "xgboost_final = xgboost_model.set_params(**xgboost_best_grid.best_params_, random_state=17).fit(X, y)"
   ]
  },
  {
   "cell_type": "code",
   "execution_count": 46,
   "id": "306a57e4",
   "metadata": {},
   "outputs": [
    {
     "name": "stdout",
     "output_type": "stream",
     "text": [
      "[00:15:58] WARNING: C:/Users/Administrator/workspace/xgboost-win64_release_1.4.0/src/learner.cc:1095: Starting in XGBoost 1.3.0, the default evaluation metric used with the objective 'binary:logistic' was changed from 'error' to 'logloss'. Explicitly set eval_metric if you'd like to restore the old behavior.\n",
      "[00:15:58] WARNING: C:/Users/Administrator/workspace/xgboost-win64_release_1.4.0/src/learner.cc:1095: Starting in XGBoost 1.3.0, the default evaluation metric used with the objective 'binary:logistic' was changed from 'error' to 'logloss'. Explicitly set eval_metric if you'd like to restore the old behavior.\n",
      "[00:15:58] WARNING: C:/Users/Administrator/workspace/xgboost-win64_release_1.4.0/src/learner.cc:1095: Starting in XGBoost 1.3.0, the default evaluation metric used with the objective 'binary:logistic' was changed from 'error' to 'logloss'. Explicitly set eval_metric if you'd like to restore the old behavior.\n",
      "[00:15:58] WARNING: C:/Users/Administrator/workspace/xgboost-win64_release_1.4.0/src/learner.cc:1095: Starting in XGBoost 1.3.0, the default evaluation metric used with the objective 'binary:logistic' was changed from 'error' to 'logloss'. Explicitly set eval_metric if you'd like to restore the old behavior.\n",
      "[00:15:58] WARNING: C:/Users/Administrator/workspace/xgboost-win64_release_1.4.0/src/learner.cc:1095: Starting in XGBoost 1.3.0, the default evaluation metric used with the objective 'binary:logistic' was changed from 'error' to 'logloss'. Explicitly set eval_metric if you'd like to restore the old behavior.\n"
     ]
    }
   ],
   "source": [
    "cv_results = cross_validate(xgboost_final, X, y, cv=5, scoring=[\"accuracy\", \"f1\", \"roc_auc\"])"
   ]
  },
  {
   "cell_type": "code",
   "execution_count": 47,
   "id": "630c1414",
   "metadata": {},
   "outputs": [
    {
     "data": {
      "text/plain": [
       "0.7578643578643579"
      ]
     },
     "execution_count": 47,
     "metadata": {},
     "output_type": "execute_result"
    }
   ],
   "source": [
    "cv_results['test_accuracy'].mean()"
   ]
  },
  {
   "cell_type": "code",
   "execution_count": 48,
   "id": "645d7639",
   "metadata": {},
   "outputs": [
    {
     "data": {
      "text/plain": [
       "0.6297649135382188"
      ]
     },
     "execution_count": 48,
     "metadata": {},
     "output_type": "execute_result"
    }
   ],
   "source": [
    "cv_results['test_f1'].mean()"
   ]
  },
  {
   "cell_type": "code",
   "execution_count": 49,
   "id": "51a9e7e9",
   "metadata": {},
   "outputs": [
    {
     "data": {
      "text/plain": [
       "0.8145597484276731"
      ]
     },
     "execution_count": 49,
     "metadata": {},
     "output_type": "execute_result"
    }
   ],
   "source": [
    "cv_results['test_roc_auc'].mean()"
   ]
  },
  {
   "cell_type": "markdown",
   "id": "d552edaa",
   "metadata": {},
   "source": [
    "## LightGBM"
   ]
  },
  {
   "cell_type": "code",
   "execution_count": 50,
   "id": "50bc1439",
   "metadata": {},
   "outputs": [
    {
     "data": {
      "text/plain": [
       "{'boosting_type': 'gbdt',\n",
       " 'class_weight': None,\n",
       " 'colsample_bytree': 1.0,\n",
       " 'importance_type': 'split',\n",
       " 'learning_rate': 0.1,\n",
       " 'max_depth': -1,\n",
       " 'min_child_samples': 20,\n",
       " 'min_child_weight': 0.001,\n",
       " 'min_split_gain': 0.0,\n",
       " 'n_estimators': 100,\n",
       " 'n_jobs': -1,\n",
       " 'num_leaves': 31,\n",
       " 'objective': None,\n",
       " 'random_state': 17,\n",
       " 'reg_alpha': 0.0,\n",
       " 'reg_lambda': 0.0,\n",
       " 'silent': 'warn',\n",
       " 'subsample': 1.0,\n",
       " 'subsample_for_bin': 200000,\n",
       " 'subsample_freq': 0}"
      ]
     },
     "execution_count": 50,
     "metadata": {},
     "output_type": "execute_result"
    }
   ],
   "source": [
    "lgbm_model = LGBMClassifier(random_state=17)\n",
    "lgbm_model.get_params()"
   ]
  },
  {
   "cell_type": "code",
   "execution_count": 51,
   "id": "0a002da2",
   "metadata": {},
   "outputs": [],
   "source": [
    "cv_results = cross_validate(lgbm_model, X, y, cv=5, scoring=[\"accuracy\", \"f1\", \"roc_auc\"])"
   ]
  },
  {
   "cell_type": "code",
   "execution_count": 52,
   "id": "8b447482",
   "metadata": {},
   "outputs": [
    {
     "data": {
      "text/plain": [
       "0.7474492827434004"
      ]
     },
     "execution_count": 52,
     "metadata": {},
     "output_type": "execute_result"
    }
   ],
   "source": [
    "cv_results['test_accuracy'].mean()"
   ]
  },
  {
   "cell_type": "code",
   "execution_count": 53,
   "id": "ed351f4c",
   "metadata": {},
   "outputs": [
    {
     "data": {
      "text/plain": [
       "0.624110522144179"
      ]
     },
     "execution_count": 53,
     "metadata": {},
     "output_type": "execute_result"
    }
   ],
   "source": [
    "cv_results['test_f1'].mean()"
   ]
  },
  {
   "cell_type": "code",
   "execution_count": 54,
   "id": "0ea00b94",
   "metadata": {},
   "outputs": [
    {
     "data": {
      "text/plain": [
       "0.7990293501048218"
      ]
     },
     "execution_count": 54,
     "metadata": {},
     "output_type": "execute_result"
    }
   ],
   "source": [
    "cv_results['test_roc_auc'].mean()"
   ]
  },
  {
   "cell_type": "code",
   "execution_count": 55,
   "id": "5c78a6f3",
   "metadata": {},
   "outputs": [],
   "source": [
    "lgbm_params = {\"learning_rate\": [0.01, 0.1],\n",
    "               \"n_estimators\": [100, 300, 500, 1000],\n",
    "               \"colsample_bytree\": [0.5, 0.7, 1]}"
   ]
  },
  {
   "cell_type": "code",
   "execution_count": 56,
   "id": "27d21f09",
   "metadata": {},
   "outputs": [
    {
     "name": "stdout",
     "output_type": "stream",
     "text": [
      "Fitting 5 folds for each of 24 candidates, totalling 120 fits\n"
     ]
    },
    {
     "name": "stderr",
     "output_type": "stream",
     "text": [
      "[Parallel(n_jobs=-1)]: Using backend LokyBackend with 4 concurrent workers.\n",
      "[Parallel(n_jobs=-1)]: Done  42 tasks      | elapsed:   11.1s\n",
      "[Parallel(n_jobs=-1)]: Done 120 out of 120 | elapsed:   29.4s finished\n"
     ]
    }
   ],
   "source": [
    "lgbm_best_grid = GridSearchCV(lgbm_model, lgbm_params, cv=5, n_jobs=-1, verbose=True).fit(X, y)"
   ]
  },
  {
   "cell_type": "code",
   "execution_count": 57,
   "id": "01bf282c",
   "metadata": {},
   "outputs": [],
   "source": [
    "lgbm_final = lgbm_model.set_params(**lgbm_best_grid.best_params_, random_state=17).fit(X, y)"
   ]
  },
  {
   "cell_type": "code",
   "execution_count": 58,
   "id": "a219ee66",
   "metadata": {},
   "outputs": [],
   "source": [
    "cv_results = cross_validate(lgbm_final, X, y, cv=5, scoring=[\"accuracy\", \"f1\", \"roc_auc\"])"
   ]
  },
  {
   "cell_type": "code",
   "execution_count": 59,
   "id": "72fa57d7",
   "metadata": {},
   "outputs": [
    {
     "data": {
      "text/plain": [
       "0.7643578643578645"
      ]
     },
     "execution_count": 59,
     "metadata": {},
     "output_type": "execute_result"
    }
   ],
   "source": [
    "cv_results['test_accuracy'].mean()"
   ]
  },
  {
   "cell_type": "code",
   "execution_count": 60,
   "id": "5990fded",
   "metadata": {},
   "outputs": [
    {
     "data": {
      "text/plain": [
       "0.6372062920577772"
      ]
     },
     "execution_count": 60,
     "metadata": {},
     "output_type": "execute_result"
    }
   ],
   "source": [
    "cv_results['test_f1'].mean()"
   ]
  },
  {
   "cell_type": "code",
   "execution_count": 61,
   "id": "4c398ad7",
   "metadata": {},
   "outputs": [
    {
     "data": {
      "text/plain": [
       "0.8147491264849755"
      ]
     },
     "execution_count": 61,
     "metadata": {},
     "output_type": "execute_result"
    }
   ],
   "source": [
    "cv_results['test_roc_auc'].mean()"
   ]
  },
  {
   "cell_type": "code",
   "execution_count": 62,
   "id": "69e4e120",
   "metadata": {},
   "outputs": [],
   "source": [
    "# Hiperparametre yeni değerlerle\n",
    "lgbm_params = {\"learning_rate\": [0.01, 0.02, 0.05, 0.1],\n",
    "               \"n_estimators\": [200, 300, 350, 400],\n",
    "               \"colsample_bytree\": [0.9, 0.8, 1]}"
   ]
  },
  {
   "cell_type": "code",
   "execution_count": 63,
   "id": "330322df",
   "metadata": {},
   "outputs": [
    {
     "name": "stdout",
     "output_type": "stream",
     "text": [
      "Fitting 5 folds for each of 48 candidates, totalling 240 fits\n"
     ]
    },
    {
     "name": "stderr",
     "output_type": "stream",
     "text": [
      "[Parallel(n_jobs=-1)]: Using backend LokyBackend with 4 concurrent workers.\n",
      "[Parallel(n_jobs=-1)]: Done  42 tasks      | elapsed:    6.8s\n",
      "[Parallel(n_jobs=-1)]: Done 192 tasks      | elapsed:   29.7s\n",
      "[Parallel(n_jobs=-1)]: Done 240 out of 240 | elapsed:   37.7s finished\n"
     ]
    }
   ],
   "source": [
    "lgbm_best_grid = GridSearchCV(lgbm_model, lgbm_params, cv=5, n_jobs=-1, verbose=True).fit(X, y)"
   ]
  },
  {
   "cell_type": "code",
   "execution_count": 64,
   "id": "c3b92ce5",
   "metadata": {},
   "outputs": [],
   "source": [
    "lgbm_final = lgbm_model.set_params(**lgbm_best_grid.best_params_, random_state=17).fit(X, y)"
   ]
  },
  {
   "cell_type": "code",
   "execution_count": 65,
   "id": "09aa8b37",
   "metadata": {},
   "outputs": [],
   "source": [
    "cv_results = cross_validate(lgbm_final, X, y, cv=5, scoring=[\"accuracy\", \"f1\", \"roc_auc\"])"
   ]
  },
  {
   "cell_type": "code",
   "execution_count": 66,
   "id": "8b21084c",
   "metadata": {},
   "outputs": [
    {
     "data": {
      "text/plain": [
       "0.7643833290892115"
      ]
     },
     "execution_count": 66,
     "metadata": {},
     "output_type": "execute_result"
    }
   ],
   "source": [
    "cv_results['test_accuracy'].mean()"
   ]
  },
  {
   "cell_type": "code",
   "execution_count": 67,
   "id": "98193a65",
   "metadata": {},
   "outputs": [
    {
     "data": {
      "text/plain": [
       "0.6193071162618689"
      ]
     },
     "execution_count": 67,
     "metadata": {},
     "output_type": "execute_result"
    }
   ],
   "source": [
    "cv_results['test_f1'].mean()"
   ]
  },
  {
   "cell_type": "code",
   "execution_count": 68,
   "id": "abb7192d",
   "metadata": {},
   "outputs": [
    {
     "data": {
      "text/plain": [
       "0.8227931516422082"
      ]
     },
     "execution_count": 68,
     "metadata": {},
     "output_type": "execute_result"
    }
   ],
   "source": [
    "cv_results['test_roc_auc'].mean()"
   ]
  },
  {
   "cell_type": "code",
   "execution_count": 69,
   "id": "f0c0ec7d",
   "metadata": {},
   "outputs": [],
   "source": [
    "# Hiperparametre optimizasyonu sadece n_estimators için.\n",
    "lgbm_model = LGBMClassifier(random_state=17, colsample_bytree=0.9, learning_rate=0.01)"
   ]
  },
  {
   "cell_type": "code",
   "execution_count": 70,
   "id": "95ad3ff5",
   "metadata": {},
   "outputs": [],
   "source": [
    "lgbm_params = {\"n_estimators\": [200, 400, 1000, 5000, 8000, 9000, 10000]}"
   ]
  },
  {
   "cell_type": "code",
   "execution_count": 71,
   "id": "01d3e7a1",
   "metadata": {},
   "outputs": [
    {
     "name": "stdout",
     "output_type": "stream",
     "text": [
      "Fitting 5 folds for each of 7 candidates, totalling 35 fits\n"
     ]
    },
    {
     "name": "stderr",
     "output_type": "stream",
     "text": [
      "[Parallel(n_jobs=-1)]: Using backend LokyBackend with 4 concurrent workers.\n",
      "[Parallel(n_jobs=-1)]: Done  35 out of  35 | elapsed:  1.4min finished\n"
     ]
    }
   ],
   "source": [
    "lgbm_best_grid = GridSearchCV(lgbm_model, lgbm_params, cv=5, n_jobs=-1, verbose=True).fit(X, y)"
   ]
  },
  {
   "cell_type": "code",
   "execution_count": 72,
   "id": "d60338b7",
   "metadata": {},
   "outputs": [],
   "source": [
    "lgbm_final = lgbm_model.set_params(**lgbm_best_grid.best_params_, random_state=17).fit(X, y)"
   ]
  },
  {
   "cell_type": "code",
   "execution_count": 73,
   "id": "6014585a",
   "metadata": {},
   "outputs": [],
   "source": [
    "cv_results = cross_validate(lgbm_final, X, y, cv=5, scoring=[\"accuracy\", \"f1\", \"roc_auc\"])"
   ]
  },
  {
   "cell_type": "code",
   "execution_count": 74,
   "id": "327aa5f4",
   "metadata": {},
   "outputs": [
    {
     "data": {
      "text/plain": [
       "0.7643833290892115"
      ]
     },
     "execution_count": 74,
     "metadata": {},
     "output_type": "execute_result"
    }
   ],
   "source": [
    "cv_results['test_accuracy'].mean()"
   ]
  },
  {
   "cell_type": "code",
   "execution_count": 75,
   "id": "15264076",
   "metadata": {},
   "outputs": [
    {
     "data": {
      "text/plain": [
       "0.6193071162618689"
      ]
     },
     "execution_count": 75,
     "metadata": {},
     "output_type": "execute_result"
    }
   ],
   "source": [
    "cv_results['test_f1'].mean()"
   ]
  },
  {
   "cell_type": "code",
   "execution_count": 76,
   "id": "177d7414",
   "metadata": {},
   "outputs": [
    {
     "data": {
      "text/plain": [
       "0.8227931516422082"
      ]
     },
     "execution_count": 76,
     "metadata": {},
     "output_type": "execute_result"
    }
   ],
   "source": [
    "cv_results['test_roc_auc'].mean()"
   ]
  },
  {
   "cell_type": "markdown",
   "id": "3656a190",
   "metadata": {},
   "source": [
    "## CatBoost"
   ]
  },
  {
   "cell_type": "code",
   "execution_count": 77,
   "id": "a224796f",
   "metadata": {},
   "outputs": [],
   "source": [
    "catboost_model = CatBoostClassifier(random_state=17, verbose=False)"
   ]
  },
  {
   "cell_type": "code",
   "execution_count": 78,
   "id": "c6bf6984",
   "metadata": {},
   "outputs": [],
   "source": [
    "cv_results = cross_validate(catboost_model, X, y, cv=5, scoring=[\"accuracy\", \"f1\", \"roc_auc\"])"
   ]
  },
  {
   "cell_type": "code",
   "execution_count": 79,
   "id": "0a21d3fb",
   "metadata": {},
   "outputs": [
    {
     "data": {
      "text/plain": [
       "0.7735251676428148"
      ]
     },
     "execution_count": 79,
     "metadata": {},
     "output_type": "execute_result"
    }
   ],
   "source": [
    "cv_results['test_accuracy'].mean()"
   ]
  },
  {
   "cell_type": "code",
   "execution_count": 80,
   "id": "b2d7a543",
   "metadata": {},
   "outputs": [
    {
     "data": {
      "text/plain": [
       "0.6502723851348231"
      ]
     },
     "execution_count": 80,
     "metadata": {},
     "output_type": "execute_result"
    }
   ],
   "source": [
    "cv_results['test_f1'].mean()"
   ]
  },
  {
   "cell_type": "code",
   "execution_count": 81,
   "id": "07ed1b7d",
   "metadata": {},
   "outputs": [
    {
     "data": {
      "text/plain": [
       "0.8378923829489867"
      ]
     },
     "execution_count": 81,
     "metadata": {},
     "output_type": "execute_result"
    }
   ],
   "source": [
    "cv_results['test_roc_auc'].mean()"
   ]
  },
  {
   "cell_type": "code",
   "execution_count": 82,
   "id": "191205b6",
   "metadata": {},
   "outputs": [],
   "source": [
    "catboost_params = {\"iterations\": [200, 500],\n",
    "                   \"learning_rate\": [0.01, 0.1],\n",
    "                   \"depth\": [3, 6]}"
   ]
  },
  {
   "cell_type": "code",
   "execution_count": 83,
   "id": "5f3625da",
   "metadata": {},
   "outputs": [
    {
     "name": "stdout",
     "output_type": "stream",
     "text": [
      "Fitting 5 folds for each of 8 candidates, totalling 40 fits\n"
     ]
    },
    {
     "name": "stderr",
     "output_type": "stream",
     "text": [
      "[Parallel(n_jobs=-1)]: Using backend LokyBackend with 4 concurrent workers.\n",
      "[Parallel(n_jobs=-1)]: Done  40 out of  40 | elapsed:   11.0s finished\n"
     ]
    }
   ],
   "source": [
    "catboost_best_grid = GridSearchCV(catboost_model, catboost_params, cv=5, n_jobs=-1, verbose=True).fit(X, y)"
   ]
  },
  {
   "cell_type": "code",
   "execution_count": 84,
   "id": "195bd9bd",
   "metadata": {},
   "outputs": [],
   "source": [
    "catboost_final = catboost_model.set_params(**catboost_best_grid.best_params_, random_state=17).fit(X, y)"
   ]
  },
  {
   "cell_type": "code",
   "execution_count": 85,
   "id": "4bd62c9c",
   "metadata": {},
   "outputs": [],
   "source": [
    "cv_results = cross_validate(catboost_final, X, y, cv=5, scoring=[\"accuracy\", \"f1\", \"roc_auc\"])"
   ]
  },
  {
   "cell_type": "code",
   "execution_count": 86,
   "id": "4518b751",
   "metadata": {},
   "outputs": [
    {
     "data": {
      "text/plain": [
       "0.7721755368814192"
      ]
     },
     "execution_count": 86,
     "metadata": {},
     "output_type": "execute_result"
    }
   ],
   "source": [
    "cv_results['test_accuracy'].mean()"
   ]
  },
  {
   "cell_type": "code",
   "execution_count": 87,
   "id": "8f31dffa",
   "metadata": {},
   "outputs": [
    {
     "data": {
      "text/plain": [
       "0.6322580676028952"
      ]
     },
     "execution_count": 87,
     "metadata": {},
     "output_type": "execute_result"
    }
   ],
   "source": [
    "cv_results['test_f1'].mean()"
   ]
  },
  {
   "cell_type": "code",
   "execution_count": 88,
   "id": "0851876f",
   "metadata": {},
   "outputs": [
    {
     "data": {
      "text/plain": [
       "0.842001397624039"
      ]
     },
     "execution_count": 88,
     "metadata": {},
     "output_type": "execute_result"
    }
   ],
   "source": [
    "cv_results['test_roc_auc'].mean()"
   ]
  },
  {
   "cell_type": "markdown",
   "id": "5af0ed58",
   "metadata": {},
   "source": [
    "## Feature Importance"
   ]
  },
  {
   "cell_type": "code",
   "execution_count": 89,
   "id": "1bc55548",
   "metadata": {},
   "outputs": [],
   "source": [
    "def plot_importance(model, features, num=len(X), save=False):\n",
    "    feature_imp = pd.DataFrame({'Value': model.feature_importances_, 'Feature': features.columns})\n",
    "    plt.figure(figsize=(10, 10))\n",
    "    sns.set(font_scale=1)\n",
    "    sns.barplot(x=\"Value\", y=\"Feature\", data=feature_imp.sort_values(by=\"Value\",\n",
    "                                                                     ascending=False)[0:num])\n",
    "    plt.title('Features')\n",
    "    plt.tight_layout()\n",
    "    plt.show()\n",
    "    if save:\n",
    "        plt.savefig('importances.png')"
   ]
  },
  {
   "cell_type": "code",
   "execution_count": 90,
   "id": "be664b58",
   "metadata": {},
   "outputs": [
    {
     "data": {
      "image/png": "[encoded data removed]",
      "text/plain": [
       "<Figure size 720x720 with 1 Axes>"
      ]
     },
     "metadata": {},
     "output_type": "display_data"
    }
   ],
   "source": [
    "plot_importance(rf_final, X)"
   ]
  },
  {
   "cell_type": "code",
   "execution_count": 91,
   "id": "53607fa3",
   "metadata": {},
   "outputs": [
    {
     "data": {
      "image/png": "[encoded data removed]",
      "text/plain": [
       "<Figure size 720x720 with 1 Axes>"
      ]
     },
     "metadata": {},
     "output_type": "display_data"
    }
   ],
   "source": [
    "plot_importance(gbm_final, X)"
   ]
  },
  {
   "cell_type": "code",
   "execution_count": 92,
   "id": "4c86992d",
   "metadata": {},
   "outputs": [
    {
     "data": {
      "image/png": "[encoded data removed]",
      "text/plain": [
       "<Figure size 720x720 with 1 Axes>"
      ]
     },
     "metadata": {},
     "output_type": "display_data"
    }
   ],
   "source": [
    "plot_importance(xgboost_final, X)"
   ]
  },
  {
   "cell_type": "code",
   "execution_count": 93,
   "id": "64d1abe6",
   "metadata": {},
   "outputs": [
    {
     "data": {
      "image/png": "[encoded data removed]",
      "text/plain": [
       "<Figure size 720x720 with 1 Axes>"
      ]
     },
     "metadata": {},
     "output_type": "display_data"
    }
   ],
   "source": [
    "plot_importance(lgbm_final, X)"
   ]
  },
  {
   "cell_type": "code",
   "execution_count": 94,
   "id": "ad469f12",
   "metadata": {},
   "outputs": [
    {
     "data": {
      "image/png": "[encoded data removed]",
      "text/plain": [
       "<Figure size 720x720 with 1 Axes>"
      ]
     },
     "metadata": {},
     "output_type": "display_data"
    }
   ],
   "source": [
    "plot_importance(catboost_final, X)"
   ]
  }
 ],
 "metadata": {
  "kernelspec": {
   "display_name": "Python 3",
   "language": "python",
   "name": "python3"
  },
  "language_info": {
   "codemirror_mode": {
    "name": "ipython",
    "version": 3
   },
   "file_extension": ".py",
   "mimetype": "text/x-python",
   "name": "python",
   "nbconvert_exporter": "python",
   "pygments_lexer": "ipython3",
   "version": "3.8.8"
  }
 },
 "nbformat": 4,
 "nbformat_minor": 5
}
